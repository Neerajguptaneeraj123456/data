{
  "nbformat": 4,
  "nbformat_minor": 0,
  "metadata": {
    "colab": {
      "provenance": [],
      "include_colab_link": true
    },
    "kernelspec": {
      "name": "python3",
      "display_name": "Python 3"
    },
    "language_info": {
      "name": "python"
    }
  },
  "cells": [
    {
      "cell_type": "markdown",
      "metadata": {
        "id": "view-in-github",
        "colab_type": "text"
      },
      "source": [
        "<a href=\"https://colab.research.google.com/github/Neerajguptaneeraj123456/data/blob/main/regression_analysis.ipynb\" target=\"_parent\"><img src=\"https://colab.research.google.com/assets/colab-badge.svg\" alt=\"Open In Colab\"/></a>"
      ]
    },
    {
      "cell_type": "code",
      "source": [
        "import numpy as np\n",
        "import pandas as pd\n",
        "import matplotlib.pyplot as plt\n",
        "import seaborn as sns\n",
        "from sklearn.linear_model import LinearRegression\n",
        "from sklearn.model_selection import train_test_split\n",
        "from sklearn.metrics import mean_squared_error, r2_score , mean_absolute_error\n",
        "# roc_auc_score\n",
        "from sklearn.model_selection import cross_val_score\n"
      ],
      "metadata": {
        "id": "YznBXtAf7Bdn"
      },
      "execution_count": 53,
      "outputs": []
    },
    {
      "cell_type": "code",
      "source": [
        "# Generate the data\n",
        "x = 10 * np.random.rand(50)\n",
        "y = 3 * x - 8 + np.random.randn(50) * 4\n",
        "\n",
        "# Fit a linear regression model\n",
        "x = x.reshape(-1, 1)\n",
        "\n"
      ],
      "metadata": {
        "id": "hMomSKVE7BjT"
      },
      "execution_count": 2,
      "outputs": []
    },
    {
      "cell_type": "code",
      "source": [
        "# trianing model\n",
        "x_train , x_test , y_train , y_test = train_test_split(x , y , test_size=0.2 , random_state=42)\n",
        "model = LinearRegression()\n",
        "model.fit(x_train, y_train)\n",
        "y_predict = model.predict(x_test)\n",
        "scores = cross_val_score(model, x_train, y_train, cv=2)\n",
        "print(\"R2 Score:\", r2_score(y_test, y_predict))\n",
        "print(\"Cross-Validation Scores:\", scores)\n",
        "print(\"Mean Cross-Validation Score:\", mean_squared_error(y_test, y_predict))\n",
        "print(\"Mean Absolute Error:\", mean_absolute_error(y_test, y_predict))\n"
      ],
      "metadata": {
        "id": "mv6e7vk09nfa",
        "outputId": "361a39f8-852e-4ccd-c686-8ead15b562e5",
        "colab": {
          "base_uri": "https://localhost:8080/"
        }
      },
      "execution_count": 54,
      "outputs": [
        {
          "output_type": "stream",
          "name": "stdout",
          "text": [
            "R2 Score: 0.8471999411640451\n",
            "Cross-Validation Scores: [0.76485851 0.85951839]\n",
            "Mean Cross-Validation Score: 13.508764554588396\n",
            "Mean Absolute Error: 3.0161123444626967\n"
          ]
        }
      ]
    },
    {
      "cell_type": "code",
      "source": [
        "import matplotlib.pyplot as plt\n",
        "\n",
        "# Create subplots\n",
        "fig, (ax1, ax2) = plt.subplots(1, 2, figsize=(10, 4))  # Set overall figure size here\n",
        "\n",
        "# First subplot\n",
        "ax1.scatter(x, y, color='red')\n",
        "ax1.set_xlabel('x')\n",
        "ax1.set_ylabel('y')\n",
        "ax1.set_title('before')\n",
        "\n",
        "# Second subplot\n",
        "ax2.scatter(x, y, color='red')\n",
        "ax2.plot(x_test, y_predict, color='blue', linewidth=3)\n",
        "ax2.set_xlabel('x')\n",
        "ax2.set_ylabel('y')\n",
        "ax2.set_title('after')\n",
        "\n",
        "plt.tight_layout()\n",
        "plt.show()\n"
      ],
      "metadata": {
        "id": "8njkneYt9GU3",
        "outputId": "8058ce2f-128d-4354-ec8a-bfac48f3a660",
        "colab": {
          "base_uri": "https://localhost:8080/",
          "height": 427
        }
      },
      "execution_count": 49,
      "outputs": [
        {
          "output_type": "display_data",
          "data": {
            "text/plain": [
              "<Figure size 1000x400 with 2 Axes>"
            ],
            "image/png": "[encoded data removed]"
          },
          "metadata": {}
        }
      ]
    },
    {
      "cell_type": "markdown",
      "source": [
        "# analysis now with OLS"
      ],
      "metadata": {
        "id": "Jow4wvSZBcxf"
      }
    },
    {
      "cell_type": "code",
      "source": [
        "import statsmodels.api as sm"
      ],
      "metadata": {
        "id": "gtmUtfUr7Knv"
      },
      "execution_count": 56,
      "outputs": []
    },
    {
      "cell_type": "code",
      "source": [
        "#  Load the dataset\n",
        "url = \"https://raw.githubusercontent.com/justmarkham/scikit-learn-videos/master/data/Advertising.csv\"\n",
        "data = pd.read_csv(url, index_col=0)\n",
        "\n",
        "# Define the independent variables (add a constant for the intercept)\n",
        "X = data[['TV', 'Radio', 'Newspaper']]\n",
        "y = data['Sales']\n",
        "\n",
        "x = sm.add_constant(X)\n",
        "# Fit the model using the independent and dependent variables\n",
        "model = sm.OLS(y,x).fit()\n",
        "print(model.summary())"
      ],
      "metadata": {
        "id": "pBsUd7Q3Bzdv",
        "outputId": "5ef47665-22d4-4f7c-b615-71e0fa317e62",
        "colab": {
          "base_uri": "https://localhost:8080/"
        }
      },
      "execution_count": 65,
      "outputs": [
        {
          "output_type": "stream",
          "name": "stdout",
          "text": [
            "                            OLS Regression Results                            \n",
            "==============================================================================\n",
            "Dep. Variable:                  Sales   R-squared:                       0.897\n",
            "Model:                            OLS   Adj. R-squared:                  0.896\n",
            "Method:                 Least Squares   F-statistic:                     570.3\n",
            "Date:                Thu, 07 Aug 2025   Prob (F-statistic):           1.58e-96\n",
            "Time:                        10:23:43   Log-Likelihood:                -386.18\n",
            "No. Observations:                 200   AIC:                             780.4\n",
            "Df Residuals:                     196   BIC:                             793.6\n",
            "Df Model:                           3                                         \n",
            "Covariance Type:            nonrobust                                         \n",
            "==============================================================================\n",
            "                 coef    std err          t      P>|t|      [0.025      0.975]\n",
            "------------------------------------------------------------------------------\n",
            "const          2.9389      0.312      9.422      0.000       2.324       3.554\n",
            "TV             0.0458      0.001     32.809      0.000       0.043       0.049\n",
            "Radio          0.1885      0.009     21.893      0.000       0.172       0.206\n",
            "Newspaper     -0.0010      0.006     -0.177      0.860      -0.013       0.011\n",
            "==============================================================================\n",
            "Omnibus:                       60.414   Durbin-Watson:                   2.084\n",
            "Prob(Omnibus):                  0.000   Jarque-Bera (JB):              151.241\n",
            "Skew:                          -1.327   Prob(JB):                     1.44e-33\n",
            "Kurtosis:                       6.332   Cond. No.                         454.\n",
            "==============================================================================\n",
            "\n",
            "Notes:\n",
            "[1] Standard Errors assume that the covariance matrix of the errors is correctly specified.\n"
          ]
        }
      ]
    },
    {
      "cell_type": "code",
      "source": [
        "# Df Model: 3 ----Degrees of freedom for model ---- You used 3 independent variables (features)\n",
        "# Df Residuals: 196 ----n - k - 1 = 200 - 3 - 1 -----You have 196 residual degrees of freedom\n"
      ],
      "metadata": {
        "id": "8Is3DyDHJRmt"
      },
      "execution_count": null,
      "outputs": []
    },
    {
      "cell_type": "code",
      "source": [
        "# R²\tAdjusted R²\n",
        "# Always increases with more features\t-----   Increases only if new features improve the model\n",
        "# Can be misleading\t-----------    Better for model selection\n",
        "# Doesn’t penalize  complexity. -------   Penalizes for adding noise"
      ],
      "metadata": {
        "id": "e3Ra6aohBzgJ"
      },
      "execution_count": null,
      "outputs": []
    },
    {
      "cell_type": "markdown",
      "source": [
        "🔢 Steps in Regression Analysis:"
      ],
      "metadata": {
        "id": "sU6hs3nHHaOZ"
      }
    },
    {
      "cell_type": "code",
      "source": [
        "# Define the Research Question\n",
        "# Identify the dependent variable (what you want to predict).\n",
        "# Choose independent variable(s) (factors influencing the prediction).\n",
        "# Collect & Prepare Data\n",
        "# Gather clean, tabular data.\n",
        "# Handle missing values, outliers, and inconsistencies.\n",
        "\n",
        "\n",
        "# Visualize the Data\n",
        "# Use scatter plots to check relationships and detect outliers or patterns.\n",
        "\n",
        "\n",
        "# Check Regression Assumptions\n",
        "# Linearity (straight-line relationship)\n",
        "# Independence of errors\n",
        "# Homoscedasticity (constant error variance)\n",
        "# Normality of residuals\n",
        "\n",
        "# Fit the Model\n",
        "# Use tools like Python (statsmodels, sklearn) or Excel to estimate coefficients by minimizing squared errors.\n",
        "\n",
        "# Interpret Results\n",
        "# Focus on:\n",
        "# Coefficients (slope, intercept)\n",
        "# p-values (significance)\n",
        "# R² / Adjusted R² (model performance)\n",
        "\n",
        "\n",
        "# Validate the Model\n",
        "# Split data into training and testing sets.\n",
        "# Evaluate with metrics like RMSE, MAE, or MSE.\n",
        "# Report Findings\n",
        "# Clearly present the model, coefficients, performance, and limitations.\n"
      ],
      "metadata": {
        "id": "F63BJL_oHZXd"
      },
      "execution_count": 67,
      "outputs": []
    },
    {
      "cell_type": "markdown",
      "source": [
        "Inference vs prediction"
      ],
      "metadata": {
        "id": "HLxs_JddIPMT"
      }
    },
    {
      "cell_type": "code",
      "source": [
        "# | **Aspect**           | **Inference**                                                  | **Prediction**                                 |\n",
        "# | -------------------- | -------------------------------------------------------------- | ---------------------------------------------- |\n",
        "# | **Goal**             | Understand the relationship between variables                  | Accurately estimate unknown outcomes           |\n",
        "# | **Focus**            | Estimate model coefficients & test significance                | Forecast values of the dependent variable      |\n",
        "# | **Questions Asked**  | “Which variables matter?”<br>“How strong is the relationship?” | “What will the value of Y be for given X?”     |\n",
        "# | **Output Used For**  | Explanation, decision-making, understanding                    | Forecasting, real-time applications            |\n",
        "# | **Example**          | How much does education level affect salary?                   | What will a person earn based on their degree? |\n",
        "# | **Model Simplicity** | Prefer simpler, interpretable models                           | May use complex models for better accuracy     |\n"
      ],
      "metadata": {
        "id": "5U_cqNupBzht"
      },
      "execution_count": null,
      "outputs": []
    },
    {
      "cell_type": "code",
      "source": [],
      "metadata": {
        "id": "wGIltpgK7KqF"
      },
      "execution_count": null,
      "outputs": []
    },
    {
      "cell_type": "code",
      "source": [],
      "metadata": {
        "id": "3f2Awj2X7KsL"
      },
      "execution_count": null,
      "outputs": []
    },
    {
      "cell_type": "code",
      "source": [],
      "metadata": {
        "id": "Hu7z5cS67KxK"
      },
      "execution_count": null,
      "outputs": []
    }
  ]
}